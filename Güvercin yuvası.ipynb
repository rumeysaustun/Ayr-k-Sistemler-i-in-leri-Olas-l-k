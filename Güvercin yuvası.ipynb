{
 "cells": [
  {
   "cell_type": "markdown",
   "metadata": {},
   "source": [
    "# Güvercin Yuvası Problemi: Tatil Ayı Seçimi\n",
    "\n",
    "Buir şirkette 15 çalışanın tatil yapmak için 6 farklı ay arasından birini seçmesi durumu incelenecektir. Güvercin yuvası prensibine göre, en az iki çalışanın aynı ayı seçip seçmediğini kontrol edeceğiz."
   ]
  },
  {
   "cell_type": "code",
   "execution_count": null,
   "metadata": {},
   "outputs": [],
   "source": [
    "import random\n",
    "from collections import Counter\n",
    "\n",
    "def simulate_vacation_months():\n",
    "    num_employees = 15\n",
    "    num_months = 6\n",
    "    chosen_months = [random.randint(1, num_months) for _ in range(num_employees)]\n",
    "    month_counts = Counter(chosen_months)\n",
    "\n",
    "    # En az iki çalışanın aynı ayı seçtiğini kontrol etme\n",
    "    for month, count in month_counts.items():\n",
    "        if count > 1:\n",
    "            print(f\"En az iki çalışan aynı ayı seçti: Ay {month}\")\n",
    "            print(f\"Seçilen aylar: {chosen_months}\")\n",
    "            return month, count, chosen_months\n",
    "\n",
    "    # Aynı ayı seçen çalışan yoksa\n",
    "    print(\"Hiçbir iki çalışan aynı ayı seçmedi.\")\n",
    "    print(f\"Seçilen aylar: {chosen_months}\")\n",
    "    return None, None, chosen_months\n",
    "\n",
    "month, count, chosen_months = simulate_vacation_months()"
   ]
  },
  {
   "cell_type": "markdown",
   "metadata": {},
   "source": [
    "## Sonuçlar\n",
    "En az iki çalışanın aynı ayı seçtiği durumları veya hiçbir iki çalışanın aynı ayı seçmediği durumu gösterir."
   ]
  },
  {
   "cell_type": "code",
   "execution_count": null,
   "metadata": {},
   "outputs": [],
   "source": [
    "if month:\n",
    "    print(f\"En az iki çalışan aynı ayı seçti: Ay {month}\")\n",
    "    print(f\"Aynı ayı seçen kişi sayısı: {count}\")\n",
    "else:\n",
    "    print(\"Hiçbir iki çalışan aynı ayı seçmedi.\")\n",
    "print(f\"Seçilen aylar: {chosen_months}\")"
   ]
  }
 ],
 "metadata": {
  "kernelspec": {
   "display_name": "Python 3",
   "language": "python",
   "name": "python3"
  },
  "language_info": {
   "codemirror_mode": {
    "name": "ipython",
    "version": 3
   },
   "file_extension": ".py",
    "mimetype": "text/x-python",
    "name": "python",
    "nbconvert_exporter": "python",
    "pygments_lexer": "ipython3",
    "version": "3.8.5"
  }
 },
 "nbformat": 4,
 "nbformat_minor": 4
}
