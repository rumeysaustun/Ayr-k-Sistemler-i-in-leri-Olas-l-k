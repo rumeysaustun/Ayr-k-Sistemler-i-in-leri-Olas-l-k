{
 "cells": [
  {
   "cell_type": "markdown",
   "metadata": {},
   "source": [
    "# Bilim Fuarı İçin Takım Seçimi\n",
    "\n",
    "Bu not defterinde, bilim fuarı için öğrencilerden oluşan üç farklı takım oluşturacağız: kimya takımı, fizik takımı ve biyoloji takımı. Her takımda belirli sayıda öğrenci olacak ve öğrenciler farklı sınıf seviyelerinden seçilecektir."
   ]
  },
  {
   "cell_type": "code",
   "execution_count": null,
   "metadata": {},
   "outputs": [],
   "source": [
    "def factorial(n):\n",
    "    if n == 0 or n == 1:\n",
    "        return 1\n",
    "    else:\n",
    "        result = 1\n",
    "        for i in range(2, n + 1):\n",
    "            result *= i\n",
    "        return result"
   ]
  },
  {
   "cell_type": "code",
   "execution_count": null,
   "metadata": {},
   "outputs": [],
   "source": [
    "def combination(n, r):\n",
    "    if r > n:\n",
    "        return 0\n",
    "    return factorial(n) / (factorial(r) * factorial(n - r))"
   ]
  },
  {
   "cell_type": "markdown",
   "metadata": {},
   "source": [
    "## Öğrenci Sayıları\n",
    "\n",
    "Her sınıf seviyesindeki öğrenci sayıları ve seçilecek öğrenci sayıları belirlenir."
   ]
  },
  {
   "cell_type": "code",
   "execution_count": null,
   "metadata": {},
   "outputs": [],
   "source": [
    "# Öğrenci sayıları\n",
    "ogrenci_12_sinif = 7\n",
    "ogrenci_11_sinif = 5\n",
    "ogrenci_10_sinif = 6\n",
    "\n",
    "# Seçilecek öğrenci sayıları\n",
    "secilecek_ogrenci_12_sinif = 3\n",
    "secilecek_ogrenci_11_sinif = 2\n",
    "secilecek_ogrenci_10_sinif = 4"
   ]
  },
  {
   "cell_type": "markdown",
   "metadata": {},
   "source": [
    "## Kombinasyon Hesaplamaları\n",
    "\n",
    "Her takım için kombinasyon hesaplamaları yapılır."
   ]
  },
  {
   "cell_type": "code",
   "execution_count": null,
   "metadata": {},
   "outputs": [],
   "source": [
    "# Kombinasyon hesaplamaları\n",
    "kimya_takimi_secimi = combination(ogrenci_12_sinif, secilecek_ogrenci_12_sinif)\n",
    "fizik_takimi_secimi = combination(ogrenci_11_sinif, secilecek_ogrenci_11_sinif)\n",
    "biyoloji_takimi_secimi = combination(ogrenci_10_sinif, secilecek_ogrenci_10_sinif)"
   ]
  },
  {
   "cell_type": "markdown",
   "metadata": {},
   "source": [
    "## Toplam Seçim Sayısı\n",
    "\n",
    "Tüm seçimlerin kombinasyonları çarpılarak toplam kaç farklı şekilde seçim yapılabileceği hesaplanır."
   ]
  },
  {
   "cell_type": "code",
   "execution_count": null,
   "metadata": {},
   "outputs": [],
   "source": [
    "# Toplam seçim sayısı\n",
    "sonuc = kimya_takimi_secimi * fizik_takimi_secimi * biyoloji_takimi_secimi\n",
    "\n",
    "print(f\"Seçim {int(sonuc)} farklı şekilde yapılabilir.\")"
   ]
  }
 ],
 "metadata": {
  "kernelspec": {
   "display_name": "Python 3",
   "language": "python",
   "name": "python3"
  },
  "language_info": {
   "codemirror_mode": {
    "name": "ipython",
    "version": 3
   },
   "file_extension": ".py",
   "mimetype": "text/x-python",
   "name": "python",
   "nbconvert_exporter": "python",
   "pygments_lexer": "ipython3",
   "version": "3.8.5"
  }
 },
 "nbformat": 4,
 "nbformat_minor": 4
}
