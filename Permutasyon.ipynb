{
 "cells": [
  {
   "cell_type": "markdown",
   "metadata": {},
   "source": [
    "# Proje Ekibi Oluşturma\n",
    "\n",
    "Bu not defterinde, bir şirkette yeni bir proje için bir ekip oluşturacağız. Ekipte toplam 6 kişi olacak ve bu kişilerin belirli departmanlardan seçilmesi gerekmektedir."
   ]
  },
  {
   "cell_type": "code",
   "execution_count": null,
   "metadata": {},
   "outputs": [],
   "source": [
    "def factorial(n):\n",
    "    if n == 0 or n == 1:\n",
    "        return 1\n",
    "    else:\n",
    "        result = 1\n",
    "        for i in range(2, n + 1):\n",
    "            result *= i\n",
    "        return result"
   ]
  },
  {
   "cell_type": "code",
   "execution_count": null,
   "metadata": {},
   "outputs": [],
   "source": [
    "def combination(n, r):\n",
    "    if r > n or n < 0 or r < 0:\n",
    "        return 0\n",
    "    else:\n",
    "        return factorial(n) / (factorial(r) * factorial(n - r))"
   ]
  },
  {
   "cell_type": "markdown",
   "metadata": {},
   "source": [
    "## Departman ve Seçilecek Kişi Sayıları\n",
    "\n",
    "Her departmandaki kişi sayıları ve seçilecek kişi sayıları belirlenir."
   ]
  },
  {
   "cell_type": "code",
   "execution_count": null,
   "metadata": {},
   "outputs": [],
   "source": [
    "# Departmanlardaki kişi sayıları\n",
    "yazilim_departmani = 5\n",
    "pazarlama_departmani = 4\n",
    "insan_kaynaklari_departmani = 3\n",
    "\n",
    "# Seçilecek kişi sayıları\n",
    "secilecek_yazilim = 3\n",
    "secilecek_pazarlama = 2\n",
    "secilecek_insan_kaynaklari = 1"
   ]
  },
  {
   "cell_type": "markdown",
   "metadata": {},
   "source": [
    "## Kombinasyon Hesaplamaları\n",
    "\n",
    "Her departman için kombinasyon hesaplamaları yapılır."
   ]
  },
  {
   "cell_type": "code",
   "execution_count": null,
   "metadata": {},
   "outputs": [],
   "source": [
    "# Kombinasyon hesaplamaları\n",
    "yazilim_secimi = combination(yazilim_departmani, secilecek_yazilim)\n",
    "pazarlama_secimi = combination(pazarlama_departmani, secilecek_pazarlama)\n",
    "insan_kaynaklari_secimi = combination(insan_kaynaklari_departmani, secilecek_insan_kaynaklari)"
   ]
  },
  {
   "cell_type": "markdown",
   "metadata": {},
   "source": [
    "## Toplam Seçim Sayısı\n",
    "\n",
    "Tüm seçimlerin kombinasyonları çarpılarak toplam kaç farklı şekilde ekip oluşturulabileceği hesaplanır."
   ]
  },
  {
   "cell_type": "code",
   "execution_count": null,
   "metadata": {},
   "outputs": [],
   "source": [
    "# Toplam seçim sayısı\n",
    "sonuc = yazilim_secimi * pazarlama_secimi * insan_kaynaklari_secimi\n",
    "\n",
    "print(f\"Ekip {int(sonuc)} farklı şekilde oluşturulabilir.\")"
   ]
  }
 ],
 "metadata": {
  "kernelspec": {
   "display_name": "Python 3",
   "language": "python",
   "name": "python3"
  },
  "language_info": {
   "codemirror_mode": {
    "name": "ipython",
    "version": 3
   },
   "file_extension": ".py",
   "mimetype": "text/x-python",
   "name": "python",
   "nbconvert_exporter": "python",
   "pygments_lexer": "ipython3",
   "version": "3.8.5"
  }
 },
 "nbformat": 4,
 "nbformat_minor": 4
}
